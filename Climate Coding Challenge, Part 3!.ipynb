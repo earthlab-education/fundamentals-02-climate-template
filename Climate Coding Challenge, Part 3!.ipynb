{
  "cells": [
    {
      "cell_type": "markdown",
      "metadata": {},
      "source": [
        "# Climate Coding Challenge\n",
        "\n",
        "Climate change is impacting the way people live around the world\n",
        "\n",
        "# Convert units\n",
        "\n",
        "It’s important to keep track of the units of all your data. You don’t\n",
        "want to be like the [NASA team who crashed a probe into Mars because\n",
        "different teams used different\n",
        "units](https://www.latimes.com/archives/la-xpm-1999-oct-01-mn-17288-story.html))!\n",
        "\n",
        "## STEP 0: Set up\n",
        "\n",
        "To get started on this notebook, you’ll need to restore any variables\n",
        "from previous notebooks to your workspace. To save time and memory, make\n",
        "sure to specify which variables you want to load."
      ],
      "id": "197a923c-b548-4e86-b9b9-ce573d2fd6dc"
    },
    {
      "cell_type": "code",
      "execution_count": 1,
      "metadata": {},
      "outputs": [],
      "source": [
        "%store -r"
      ],
      "id": "cbf1ec90"
    },
    {
      "cell_type": "markdown",
      "metadata": {},
      "source": [
        "## Use labels to keep track of units for you and your collaborators\n",
        "\n",
        "One way to keep track of your data’s units is to include the unit in\n",
        "data **labels**. In the case of a `DataFrame`, that usually means the\n",
        "column names.\n",
        "\n",
        "<link rel=\"stylesheet\" type=\"text/css\" href=\"./assets/styles.css\"><div class=\"callout callout-style-default callout-titled callout-task\"><div class=\"callout-header\"><div class=\"callout-icon-container\"><i class=\"callout-icon\"></i></div><div class=\"callout-title-container flex-fill\">Try It: Add units to your column name</div></div><div class=\"callout-body-container callout-body\"><p>A big part of writing <strong>expressive</strong> code is descriptive\n",
        "labels. Let’s rename the columns of your dataframe to include units.\n",
        "Complete the following steps:</p>\n",
        "<ol type=\"1\">\n",
        "<li>Replace <code>dataframe</code> with the name of\n",
        "<strong>your</strong> <code>DataFrame</code>, and\n",
        "<code>dataframe_units</code> with an expressive new name.</li>\n",
        "<li>Check out the <a\n",
        "href=\"https://www.ncei.noaa.gov/data/global-historical-climatology-network-daily/doc/GHCND_documentation.pdf\">documentation\n",
        "for GCHNd data</a>. We downloaded data with “standard” units; find out\n",
        "what that means for temperature.</li>\n",
        "<li>Replace <code>'temperature-column-name'</code> with the temperature\n",
        "column name in your data, and <code>'temp_unit'</code> with a column\n",
        "name that includes the correct unit. For example, you could make a\n",
        "column called <code>'temperature_k'</code> to note that your\n",
        "temperatures are in degrees Kelvin.</li>\n",
        "</ol></div></div>"
      ],
      "id": "ab67c1ad-90e4-4137-809a-64c253675f8d"
    },
    {
      "cell_type": "code",
      "execution_count": 2,
      "metadata": {
        "template": "student"
      },
      "outputs": [],
      "source": [
        "dataframe_units = dataframe.rename(columns={\n",
        "    'temperature-column-name': 'temp_unit',\n",
        "})\n",
        "\n",
        "dataframe_units"
      ],
      "id": "a217da36"
    },
    {
      "cell_type": "markdown",
      "metadata": {},
      "source": [
        "## For scientific applications, it is often useful to have values in metric units\n",
        "\n",
        "In this case, we want to convert data from degrees Fahrenheit to degrees\n",
        "Celcius. The equation for converting Fahrenheit temperature to Celcius\n",
        "is:\n",
        "\n",
        "$$T_C = (T_F - 32) * \\frac{5}{9}$$\n",
        "\n",
        "<link rel=\"stylesheet\" type=\"text/css\" href=\"./assets/styles.css\"><div class=\"callout callout-style-default callout-titled callout-task\"><div class=\"callout-header\"><div class=\"callout-icon-container\"><i class=\"callout-icon\"></i></div><div class=\"callout-title-container flex-fill\">Try It: Convert units</div></div><div class=\"callout-body-container callout-body\"><p>The code below attempts to convert the data to Celcius, using Python\n",
        "mathematical <strong>operators</strong>, like <code>+</code>,\n",
        "<code>-</code>, <code>*</code>, and <code>/</code>. Mathematical\n",
        "operators in Python work just like a calculator, and that includes using\n",
        "parentheses to designate the <strong>order of operations</strong>.</p>\n",
        "<p>This code is not well documented and doesn’t follow <a\n",
        "href=\"https://peps.python.org/pep-0008/#other-recommendations\">PEP-8\n",
        "guidelines</a>, which has caused the author to miss an <strong>important\n",
        "error</strong>!</p>\n",
        "<p>Complete the following steps:</p>\n",
        "<ol type=\"1\">\n",
        "<li>Replace <code>dataframe</code> with the name of\n",
        "<strong>your</strong> <code>DataFrame</code>.</li>\n",
        "<li>Replace <code>'old_temperature'</code> with the column name\n",
        "<strong>you</strong> used; Replace <code>'new_temperature'</code> with\n",
        "an <strong>expressive</strong> column name.</li>\n",
        "<li><strong>THERE IS AN ERROR IN THE CONVERSION MATH - Fix\n",
        "it!</strong></li>\n",
        "</ol></div></div>"
      ],
      "id": "ea51f08d-c3e4-4fc3-b154-3274b6fadcb1"
    },
    {
      "cell_type": "code",
      "execution_count": 4,
      "metadata": {
        "template": "student"
      },
      "outputs": [],
      "source": [
        "dataframe_units['new_temperature'] = (dataframe_units['old_temperature']-32*5/9)\n",
        "dataframe_units"
      ],
      "id": "a8241ca6"
    },
    {
      "cell_type": "markdown",
      "metadata": {},
      "source": [
        "<link rel=\"stylesheet\" type=\"text/css\" href=\"./assets/styles.css\"><div class=\"callout callout-style-default callout-titled callout-extra\"><div class=\"callout-header\"><div class=\"callout-icon-container\"><i class=\"callout-icon\"></i></div><div class=\"callout-title-container flex-fill\">Looking for an Extra Challenge?</div></div><div class=\"callout-body-container callout-body\"><p>Using the code below as a framework, write and apply a\n",
        "<strong>function</strong> that converts to Celcius. You should also\n",
        "rewrite this function name and parameter names to be more\n",
        "expressive.</p></div></div>"
      ],
      "id": "a5e9c038-ed80-487a-8284-8d992d04fded"
    },
    {
      "cell_type": "code",
      "execution_count": 6,
      "metadata": {
        "template": "student"
      },
      "outputs": [],
      "source": [
        "# Convert units with a function\n",
        "def convert(temperature):\n",
        "    \"\"\"Convert Fahrenheit temperature to Celcius\"\"\"\n",
        "    return temperature # Put your equation in here\n",
        "\n",
        "dataframe['TEMP_C'] = (\n",
        "    dataframe['TEMP_F'].apply(convert))"
      ],
      "id": "e0011478"
    },
    {
      "cell_type": "markdown",
      "metadata": {},
      "source": [
        "# STEP -1: Wrap up\n",
        "\n",
        "Don’t forget to store your variables so you can use them in other\n",
        "notebooks! Replace `var1` and `var2` with the variable you want to save,\n",
        "separated by spaces."
      ],
      "id": "6804e45f-6a25-462b-8c67-74387091278d"
    },
    {
      "cell_type": "code",
      "execution_count": 8,
      "metadata": {},
      "outputs": [],
      "source": [
        "%store var1 var2"
      ],
      "id": "73e42c7f"
    },
    {
      "cell_type": "markdown",
      "metadata": {},
      "source": [
        "Finally, be sure to `Restart` and `Run all` to make sure your notebook\n",
        "works all the way through!"
      ],
      "id": "884b5215-cdc9-4cb1-927d-70f3b38bbc20"
    }
  ],
  "nbformat": 4,
  "nbformat_minor": 5,
  "metadata": {
    "kernelspec": {
      "name": "learning-portal",
      "display_name": "Learning Portal",
      "language": "python"
    },
    "language_info": {
      "name": "python",
      "codemirror_mode": {
        "name": "ipython",
        "version": "3"
      },
      "file_extension": ".py",
      "mimetype": "text/x-python",
      "nbconvert_exporter": "python",
      "pygments_lexer": "ipython3",
      "version": "3.11.13"
    }
  }
}