{
  "cells": [
    {
      "cell_type": "markdown",
      "id": "40cc2ef3-1e91-41c5-ad5b-471cbc7b3be4",
      "metadata": {},
      "source": [
        "# Climate Coding Challenge\n",
        "\n",
        "Climate change is impacting the way people live around the world\n",
        "\n",
        "# Part 3: Convert units\n",
        "\n",
        "It’s important to keep track of the units of all your data. You don’t\n",
        "want to be like the [NASA team who crashed a probe into Mars because\n",
        "different teams used different\n",
        "units](https://www.latimes.com/archives/la-xpm-1999-oct-01-mn-17288-story.html))!\n",
        "\n",
        "## STEP 0: Set up\n",
        "\n",
        "To get started on this notebook, you’ll need to restore any variables\n",
        "from previous notebooks to your workspace. To save time and memory, make\n",
        "sure to specify which variables you want to load."
      ]
    },
    {
      "cell_type": "code",
      "execution_count": 2,
      "id": "df76a97a",
      "metadata": {},
      "outputs": [],
      "source": [
        "%store -r"
      ]
    },
    {
      "cell_type": "markdown",
      "id": "6212818d-e52e-4342-8219-8602c6370cf6",
      "metadata": {},
      "source": [
        "You will also need to import any libraries you are using in this\n",
        "notebook, since they won’t carry over from the previous notebook:"
      ]
    },
    {
      "cell_type": "code",
      "execution_count": 3,
      "id": "2bab7965",
      "metadata": {},
      "outputs": [],
      "source": [
        "# Import libraries"
      ]
    },
    {
      "cell_type": "markdown",
      "id": "2eb66bc8-0e21-4313-a207-2c064d872bf0",
      "metadata": {},
      "source": [
        "## Use labels to keep track of units for you and your collaborators\n",
        "\n",
        "One way to keep track of your data’s units is to include the unit in\n",
        "data **labels**. In the case of a `DataFrame`, that usually means the\n",
        "column names.\n",
        "\n",
        "<link rel=\"stylesheet\" type=\"text/css\" href=\"./assets/styles.css\"><div class=\"callout callout-style-default callout-titled callout-task\"><div class=\"callout-header\"><div class=\"callout-icon-container\"><i class=\"callout-icon\"></i></div><div class=\"callout-title-container flex-fill\">Try It: Add units to your column name</div></div><div class=\"callout-body-container callout-body\"><p>A big part of writing <strong>expressive</strong> code is descriptive\n",
        "labels. Let’s rename the columns of your dataframe to include units.\n",
        "Complete the following steps:</p>\n",
        "<ol type=\"1\">\n",
        "<li>Replace <code>dataframe</code> with the name of\n",
        "<strong>your</strong> <code>DataFrame</code>, and\n",
        "<code>dataframe_units</code> with an expressive new name.</li>\n",
        "<li>Check out the <a\n",
        "href=\"https://www.ncei.noaa.gov/data/global-historical-climatology-network-daily/doc/GHCND_documentation.pdf\">documentation\n",
        "for GCHNd data</a>. We downloaded data with “standard” units; find out\n",
        "what that means for both temperature and precipitation.</li>\n",
        "<li>Replace <code>'TOBS'</code> with the temperature column name in your\n",
        "data, and <code>'TOBS_UNIT'</code> with a column name that includes the\n",
        "correct unit.</li>\n",
        "</ol></div></div>"
      ]
    },
    {
      "cell_type": "code",
      "execution_count": 4,
      "id": "acfb4d01",
      "metadata": {
        "template": "student"
      },
      "outputs": [],
      "source": [
        "dataframe_units = dataframe.rename(columns={\n",
        "    'TOBS': 'TOBS_UNIT',\n",
        "})\n",
        "\n",
        "dataframe_units"
      ]
    },
    {
      "cell_type": "markdown",
      "id": "82370847-baa8-4932-aafd-0ca4c07d8435",
      "metadata": {},
      "source": [
        "## For scientific applications, it is often useful to have values in metric units\n",
        "\n",
        "<link rel=\"stylesheet\" type=\"text/css\" href=\"./assets/styles.css\"><div class=\"callout callout-style-default callout-titled callout-task\"><div class=\"callout-header\"><div class=\"callout-icon-container\"><i class=\"callout-icon\"></i></div><div class=\"callout-title-container flex-fill\">Try It: Convert units</div></div><div class=\"callout-body-container callout-body\"><p>The code below attempts to convert the data to Celcius, using Python\n",
        "mathematical <strong>operators</strong>, like <code>+</code>,\n",
        "<code>-</code>, <code>*</code>, and <code>/</code>. Mathematical\n",
        "operators in Python work just like a calculator, and that includes using\n",
        "parentheses to designat the <strong>order of operations</strong>. The\n",
        "equation for converting Fahrenheit temperature to Celcius is:</p>\n",
        "<p><span class=\"math display\">$$ T_C = (T_F - 32) * \\frac{5}{9}\n",
        "$$</span></p>\n",
        "<p>This code is not well documented and doesn’t follow <a\n",
        "href=\"https://peps.python.org/pep-0008/#other-recommendations\">PEP-8\n",
        "guidelines</a>, which has caused the author to miss an <strong>important\n",
        "error</strong>!</p>\n",
        "<p>Complete the following steps:</p>\n",
        "<ol type=\"1\">\n",
        "<li>Replace <code>dataframe</code> with the name of\n",
        "<strong>your</strong> <code>DataFrame</code>.</li>\n",
        "<li>Replace <code>'old_temperature'</code> with the column name\n",
        "<strong>you</strong> used; Replace <code>'new_temperature'</code> with\n",
        "an <strong>expressive</strong> column name.</li>\n",
        "<li><strong>THERE IS AN ERROR IN THE CONVERSION MATH - Fix\n",
        "it!</strong></li>\n",
        "</ol></div></div>"
      ]
    },
    {
      "cell_type": "code",
      "execution_count": 6,
      "id": "cc19680d",
      "metadata": {
        "template": "student"
      },
      "outputs": [],
      "source": [
        "dataframe_units['new_temperature']= dataframe_units['old_temperature']-32*5/9\n",
        "dataframe_units"
      ]
    },
    {
      "cell_type": "markdown",
      "id": "ced7dd0a-978b-4092-97a8-6bd501b98f0c",
      "metadata": {},
      "source": [
        "<link rel=\"stylesheet\" type=\"text/css\" href=\"./assets/styles.css\"><div class=\"callout callout-style-default callout-titled callout-extra\"><div class=\"callout-header\"><div class=\"callout-icon-container\"><i class=\"callout-icon\"></i></div><div class=\"callout-title-container flex-fill\">Looking for an Extra Challenge?</div></div><div class=\"callout-body-container callout-body\"><p>Using the code below as a framework, write and apply a\n",
        "<strong>function</strong> that converts to Celcius. You should also\n",
        "rewrite this function name to be more expressive.</p></div></div>"
      ]
    },
    {
      "cell_type": "code",
      "execution_count": 8,
      "id": "f7561cba",
      "metadata": {
        "template": "student"
      },
      "outputs": [],
      "source": [
        "# Convert units with a function\n",
        "def convert(temperature):\n",
        "    \"\"\"Convert temperature to Celcius\"\"\"\n",
        "    return temperature # Put your equation in here\n",
        "\n",
        "dataframe['TEMP_C'] = (\n",
        "    dataframe['TEMP_F'].apply(convert))"
      ]
    },
    {
      "cell_type": "code",
      "execution_count": 9,
      "id": "5ec92365",
      "metadata": {
        "template": "answer"
      },
      "outputs": [],
      "source": [
        "def convert_f_to_c(temperature_f):\n",
        "    \"\"\"Convert temperature to Celcius\"\"\"\n",
        "    return (temperature_f - 32) * 5/9\n",
        "\n",
        "climate_u_df['temp_c'] = (\n",
        "    climate_u_df['temp_f'].apply(convert_f_to_c))"
      ]
    },
    {
      "cell_type": "markdown",
      "id": "2880d97e-1d73-494f-a43a-7e1049bd704b",
      "metadata": {},
      "source": [
        "# STEP -1: Wrap up\n",
        "\n",
        "Don’t forget to store your variables so you can use them in other\n",
        "notebooks! Replace `var1` and `var2` with the variable you want to save,\n",
        "separated by spaces."
      ]
    },
    {
      "cell_type": "code",
      "execution_count": 10,
      "id": "8a62183e",
      "metadata": {},
      "outputs": [],
      "source": [
        "%store var1 var2"
      ]
    },
    {
      "cell_type": "markdown",
      "id": "8d870a1a-b900-4ebd-9ddf-9c2bb5d0130d",
      "metadata": {},
      "source": [
        "Finally, be sure to `Restart` and `Run all` to make sure your notebook\n",
        "works all the way through!"
      ]
    }
  ],
  "metadata": {
    "kernelspec": {
      "display_name": "Learning Portal",
      "language": "python",
      "name": "learning-portal"
    },
    "language_info": {
      "codemirror_mode": {
        "name": "ipython",
        "version": "3"
      },
      "file_extension": ".py",
      "mimetype": "text/x-python",
      "name": "python",
      "nbconvert_exporter": "python",
      "pygments_lexer": "ipython3",
      "version": "3.11.13"
    }
  },
  "nbformat": 4,
  "nbformat_minor": 5
}
