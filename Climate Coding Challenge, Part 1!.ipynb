{
  "cells": [
    {
      "cell_type": "markdown",
      "metadata": {},
      "source": [
        "# Climate Coding Challenge\n",
        "\n",
        "Climate change is impacting the way people live around the world\n",
        "\n",
        "# Part 1: Overview\n",
        "\n",
        "Higher highs, lower lows, storms, and smoke – we’re all feeling the\n",
        "effects of climate change. In this workflow, you will take a look at\n",
        "trends in temperature over time in Boulder, CO.\n",
        "\n",
        "<link rel=\"stylesheet\" type=\"text/css\" href=\"./assets/styles.css\"><div class=\"callout callout-style-default callout-titled callout-discuss\"><div class=\"callout-header\"><div class=\"callout-icon-container\"><i class=\"callout-icon\"></i></div><div class=\"callout-title-container flex-fill\">Conversation Starter</div></div><div class=\"callout-body-container callout-body\"><p>In a <em>bulleted list</em>, how is climate change affecting your\n",
        "home?</p></div></div>\n",
        "\n",
        "# YOUR ANSWER HERE\n",
        "\n",
        "## What the fork?! Who wrote this?\n",
        "\n",
        "For this challenge, you’ll be running a scientific workflow in Python.\n",
        "But something’s wrong – The code won’t run! Your task is to follow the\n",
        "instructions below to **clean and debug** the Python code below so that\n",
        "it runs.\n",
        "\n",
        "> **Tip**\n",
        ">\n",
        "> Don’t worry if you can’t solve every bug right away. We’ll get there!\n",
        "> If you are working on one bug for more than about 10 minutes, it’s\n",
        "> time to ask for help.\n",
        "\n",
        "At the end, you’ll **repeat the workflow** for a location and\n",
        "measurement of your choosing.\n",
        "\n",
        "Alright! Let’s clean up this code."
      ],
      "id": "20368005-a731-45b9-92f4-c51977b5d86f"
    }
  ],
  "nbformat": 4,
  "nbformat_minor": 5,
  "metadata": {
    "kernelspec": {
      "name": "learning-portal",
      "display_name": "Learning Portal",
      "language": "python"
    },
    "language_info": {
      "name": "python",
      "codemirror_mode": {
        "name": "ipython",
        "version": "3"
      },
      "file_extension": ".py",
      "mimetype": "text/x-python",
      "nbconvert_exporter": "python",
      "pygments_lexer": "ipython3",
      "version": "3.11.13"
    }
  }
}