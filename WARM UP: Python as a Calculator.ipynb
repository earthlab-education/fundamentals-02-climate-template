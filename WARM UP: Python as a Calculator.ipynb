{
  "cells": [
    {
      "cell_type": "markdown",
      "id": "894720e5-bb97-4c86-9ee3-10187b0c6ab4",
      "metadata": {},
      "source": [
        "# Practice using names and operators in Python\n",
        "\n",
        "We’ve found that it’s helpful for students who are brand new to\n",
        "programming to have some practice with the basic syntax. If that’s you,\n",
        "that’s what this notebook is for - we hope it helps with getting used to\n",
        "Python. If you’re someone with more experience, don’t overthink it -\n",
        "just move on quickly to the analysis for this week!\n",
        "\n",
        "Be sure you have read the following chapters of the Introduction to\n",
        "Earth Data Science online textbook:\n",
        "\n",
        "-   **Chapter 10 from Section 4**\n",
        "    <a href=\"https://www.earthdatascience.org/courses/intro-to-earth-data-science/python-code-fundamentals/get-started-using-python/lists/\" target=\"_blank\">Chapter\n",
        "    10 - Introduction to Python</a>\n",
        "-   **Chapter 16 from Section 7**\n",
        "    <a href=\"https://www.earthdatascience.org/courses/intro-to-earth-data-science/write-efficient-python-code/intro-to-clean-code/\" target=\"_blank\">Chapter\n",
        "    16 - Introduction to Clean Code</a>\n",
        "\n",
        "These chapters cover:\n",
        "\n",
        "-   how to create and work with variables and lists\n",
        "-   more background on **Python** packages and environments\n",
        "-   how to write clean code, including an introduction to the PEP 8\n",
        "    style guide for **Python**.\n",
        "\n",
        "## Assignment Data\n",
        "\n",
        "This data in this assignment, represent average monthly temperature for\n",
        "<a href=\"https://www.esrl.noaa.gov/psd/boulder/Boulder.mm.html\" target=\"_blank\">Boulder,\n",
        "Colorado, provided by the U.S. National Oceanic and Atmospheric\n",
        "Administration (NOAA).</a>\n",
        "\n",
        "## Create Variables in Python\n",
        "\n",
        "Add your code to the cell below to complete the following task:\n",
        "\n",
        "-   Create a unique variable that represents the monthly average\n",
        "    temperature (Fahrenheit) for each month January through March.\n",
        "-   Name each variable using the month column name. You should have 3\n",
        "    variables in total. (`jan`, `feb`, and `mar`)\n",
        "\n",
        "IMPORTANT: Python variable names are CASE SENSITIVE! Be sure that you\n",
        "spell the variable name correctly and consider capitalization.\n",
        "\n",
        "| Month | Temperature (Fahrenheit) |\n",
        "|-------|--------------------------|\n",
        "| jan   | 32.0                     |\n",
        "| feb   | 35.6                     |\n",
        "| mar   | 41.0                     |"
      ]
    },
    {
      "cell_type": "code",
      "execution_count": null,
      "id": "1db31972",
      "metadata": {
        "nbgrader": {
          "grade": false,
          "grade_id": "student-create-variables-answer",
          "locked": false,
          "schema_version": 3,
          "solution": true,
          "task": false
        }
      },
      "outputs": [],
      "source": [
        "# Create variables of monthly temperature data"
      ]
    },
    {
      "cell_type": "code",
      "execution_count": null,
      "id": "05692112",
      "metadata": {
        "nbgrader": {
          "grade": true,
          "grade_id": "create-variables-tests",
          "locked": true,
          "points": 6,
          "schema_version": 3,
          "solution": false,
          "task": false
        }
      },
      "outputs": [],
      "source": [
        "# DO NOT MODIFY THIS CELL!\n",
        "# Did you create all of the variables? Run this cell to find out\n",
        "\n",
        "variables_exist = False\n",
        "\n",
        "try:\n",
        "    checksum = round(jan + feb + mar, 1)\n",
        "    print(\"\\u2705 Nice work - all of your variables exist!\")\n",
        "    variables_exist = True\n",
        "except NameError as ne:\n",
        "    print((\"\\u274C Oops! At least one of your variables is missing. \"\n",
        "           \"Be sure that all your variables are spelled exactly as it is \"\n",
        "           \"represented in the Month column in the table above\"), \n",
        "          ne)\n",
        "\n",
        "if variables_exist:\n",
        "    if checksum == 108.6:\n",
        "        print(\"\\u2705 All of your variables are set to the correct values.\")\n",
        "    else:\n",
        "        print((\"\\u274C You variables exist, but at least one does not have \"\n",
        "               \"the correct value (the sum is incorrect).\"))"
      ]
    },
    {
      "cell_type": "markdown",
      "id": "053befa5-8148-4411-be7c-93499d7fec6a",
      "metadata": {},
      "source": [
        "## Run Calculations on Variables\n",
        "\n",
        "In the cell below, complete the following task:\n",
        "\n",
        "-   Convert the 3 variable values for January through March that you\n",
        "    created above **from Fahrenheit to Celsius** using the following\n",
        "    equation:\n",
        "    -   Celsius = (Fahrenheit - 32) / 1.8\n",
        "    -   Note that Python by default follows the standard rules of math\n",
        "        order of operations. This means that division would happen\n",
        "        BEFORE subtraction. Including `Fahrenheit - 32` within\n",
        "        parenthesis `()` tells `Python` to execute that calculation\n",
        "        first."
      ]
    },
    {
      "cell_type": "code",
      "execution_count": null,
      "id": "89048863",
      "metadata": {
        "nbgrader": {
          "grade": false,
          "grade_id": "student-calc-variables-answer",
          "locked": false,
          "schema_version": 3,
          "solution": true,
          "task": false
        }
      },
      "outputs": [],
      "source": [
        "# Convert variable values from Fahrenheit to Celsius\n"
      ]
    },
    {
      "cell_type": "code",
      "execution_count": null,
      "id": "12018cd9",
      "metadata": {
        "nbgrader": {
          "grade": true,
          "grade_id": "student-calc-variables-tests",
          "locked": true,
          "points": 3,
          "schema_version": 3,
          "solution": false,
          "task": false
        }
      },
      "outputs": [],
      "source": [
        "# DO NOT MODIFY THIS CELL\n",
        "\n",
        "checksum_celsius = 7.0\n",
        "\n",
        "if round(jan + feb + mar, 1) == checksum_celsius:\n",
        "    print((\"\\u2705 You modified the variables you created above correctly, \"\n",
        "           \"good job!\"))\n",
        "else:\n",
        "    print((\"\\u274C You did not modify the variables as expected. Make sure \"\n",
        "           \"you assigned the output of your modification back to the \"\n",
        "           \"variable.\"))"
      ]
    },
    {
      "cell_type": "markdown",
      "id": "d04949ad-4ccd-49bf-a009-5eb1c7786408",
      "metadata": {},
      "source": [
        "## Create List of Converted Monthly Temperatures\n",
        "\n",
        "In the cell below:\n",
        "\n",
        "-   Create a Python object of type **list** called **temp** for average\n",
        "    monthly temperature for Boulder, CO containing the **variables for\n",
        "    January to June in the Celsius degrees**.\n",
        "\n",
        "In Python, lists are created by placing values inside square brackets\n",
        "`[]`, separated by commas. For example, a list with two values would be\n",
        "created like this:\n",
        "\n",
        "    list = [value1, value2]"
      ]
    },
    {
      "cell_type": "code",
      "execution_count": null,
      "id": "cf209b8c",
      "metadata": {
        "nbgrader": {
          "grade": false,
          "grade_id": "student-create-list-temp-answer",
          "locked": false,
          "schema_version": 3,
          "solution": true,
          "task": false
        }
      },
      "outputs": [],
      "source": [
        "# Create list of converted monthly temps\n"
      ]
    },
    {
      "cell_type": "code",
      "execution_count": null,
      "id": "b7fa3a41",
      "metadata": {
        "nbgrader": {
          "grade": true,
          "grade_id": "student-create-list-temp-tests",
          "locked": true,
          "points": 5,
          "schema_version": 3,
          "solution": false,
          "task": false
        }
      },
      "outputs": [],
      "source": [
        "# DO NOT MODIFY THIS CELL!\n",
        "\n",
        "is_list = False\n",
        "\n",
        "if isinstance(temp, list):\n",
        "    print((\"\\u2705 Nice work! The object you called at the end of the cell \"\n",
        "           \"is of type - list\"))\n",
        "    is_list = True\n",
        "else:\n",
        "    print((\"\\u274C Oops! Did you create a list variable and call it at the \"\n",
        "           \"end of the cell? Please reread the directions.\"))\n",
        "if is_list:\n",
        "    if len(temp) == 3:\n",
        "        print((\"\\u2705 Nice work! Your list has the correct number of \"\n",
        "               \"elements\"))\n",
        "    else:\n",
        "        print((\"\\u274C Oops - your list is not the correct length.\"))\n",
        "    \n",
        "if round(sum(temp), 1) == checksum_celsius:\n",
        "    print((\"\\u2705 The list you created has the correct values in it, good \"\n",
        "           \"job!\"))\n",
        "else:\n",
        "    print(\"\\u274C The list you created does not contain the correct values.\")"
      ]
    },
    {
      "cell_type": "markdown",
      "id": "60d8c177-1d0a-49fc-a43f-813ddd545122",
      "metadata": {},
      "source": [
        "## Add Values to List of Converted Monthly Temperatures\n",
        "\n",
        "In the cell below:\n",
        "\n",
        "-   Add the average monthly temperature values for **July to December in\n",
        "    the Celsius degrees** (in the table below) to your list called\n",
        "    `temp` of converted monthly temperatures. \\> HINT: There are\n",
        "    actually 3 different ways you could complete this task: `.append()`,\n",
        "    `.extend()`, or `+=`. Try out all 3 for practice!\n",
        "\n",
        "| Month | Temperature (Celsius) |\n",
        "|-------|-----------------------|\n",
        "| apr   | 9.6                   |\n",
        "| may   | 14.4                  |\n",
        "| june  | 19.6                  |\n",
        "| july  | 22.8                  |\n",
        "| aug   | 21.7                  |\n",
        "| sept  | 16.7                  |\n",
        "| oct   | 11.6                  |\n",
        "| nov   | 4.9                   |\n",
        "| dec   | 1.0                   |"
      ]
    },
    {
      "cell_type": "code",
      "execution_count": null,
      "id": "a5c42701",
      "metadata": {
        "nbgrader": {
          "grade": false,
          "grade_id": "student-add-values-list",
          "locked": false,
          "schema_version": 3,
          "solution": true,
          "task": false
        }
      },
      "outputs": [],
      "source": [
        "# Practice adding to a list\n"
      ]
    },
    {
      "cell_type": "code",
      "execution_count": null,
      "id": "51c96d6b",
      "metadata": {
        "nbgrader": {
          "grade": true,
          "grade_id": "test-add-values-list",
          "locked": true,
          "points": 7,
          "schema_version": 3,
          "solution": false,
          "task": false
        }
      },
      "outputs": [],
      "source": [
        "# DO NOT MODIFY THIS CELL\n",
        "\n",
        "student_temp_long = _\n",
        "\n",
        "is_list = False\n",
        "\n",
        "if isinstance(student_temp_long, list):\n",
        "    print((\"\\u2705 Nice work! The object you called at the end of the cell \"\n",
        "           \"is of type - list\"))\n",
        "    is_list = True\n",
        "else:\n",
        "    print((\"\\u274C Oops! Did you create a list variable and call it at the \"\n",
        "           \"end of the cell? Please reread the directions.\"))\n",
        "\n",
        "if is_list:\n",
        "    if len(student_temp_long) == 12:\n",
        "        print((\"\\u2705 Nice work! Your list has the correct number of \"\n",
        "               \"elements\"))\n",
        "    else:\n",
        "        print((\"\\u274C Oops - your list is not the correct length.\"))\n",
        "    \n",
        "if round(sum(student_temp_long), 1) == 129.3:\n",
        "    print((\"\\u2705 The list you created has the correct values in it, good \"\n",
        "           \"job!\"))\n",
        "else:\n",
        "    print(\"\\u274C The list you created does not contain the correct values.\")"
      ]
    },
    {
      "cell_type": "markdown",
      "id": "a89ce65e-c801-4a72-88d6-59546cb546af",
      "metadata": {},
      "source": [
        "## <i class=\"fa fa-pencil-square-o\" aria-hidden=\"true\"></i> BONUS Challenge: List Comprehensions in Python (OPTIONAL)\n",
        "\n",
        "**This activity is optional!**\n",
        "\n",
        "Above you performed many tasks manually. Included in those manual steps\n",
        "was one where you converted each individual value in your list from\n",
        "Fahrenheit to Celsius. In **Python**, list comprehensions are a great\n",
        "way to perform operations on a sequence of values stored within a list.\n",
        "\n",
        "The syntax for a list comprehension is below. Essentially what is\n",
        "happening is that Python is iterating through each value in the old list\n",
        "(`for i in my_old_list`) and multiplying it by 2 (`i*2`). In each\n",
        "iteration of the loop, the value `i` represents the next value in the\n",
        "list. In the example below, `i` will first be the value 1, and then 2,\n",
        "and finally 3.\n",
        "\n",
        "``` python\n",
        "my_old_list = [1, 2, 3]\n",
        "my_new_list = [i*2 for i in my_old_list] \n",
        "```\n",
        "\n",
        "`my_new_list` will equal each value in `my_old_list` multiplied by 2, so\n",
        "`my_new_list` will be equivalent to `[2, 4, 6]`. You can run this code\n",
        "and see the output for yourself! Try to experiment with writing more\n",
        "efficient code. Convert your `boulder_precip_inches` list of values to a\n",
        "new list called `boulder_precip_mm` using a list comprehension. Use the\n",
        "syntax above to help you create this list comprehension.\n",
        "\n",
        "### Your Challenge If You Chose to Accept It\n",
        "\n",
        "The code below creates a list object called temp_fah that stores 6\n",
        "temperature values in degrees Fahrenheit.\n",
        "\n",
        "`temp_fah = [32.0, 35.6, 41.0, 49.2, 57.9, 67.2]`\n",
        "\n",
        "Do the following:\n",
        "\n",
        "1.  Copy the code into the code cell below\n",
        "2.  Create a list comprehension that creates a new object which contains\n",
        "    each value converted into Celsius.\n",
        "3.  Call the new list you created at the end of the cell.\n",
        "\n",
        "### Learn More About For Loops and List Comprehensions in Python (OPTIONAL)\n",
        "\n",
        "For more information on loops and changing values within a list, you can\n",
        "check out:\n",
        "\n",
        "-   <a href=\"https://www.earthdatascience.org/courses/intro-to-earth-data-science/write-efficient-python-code/loops/\" target=\"_blank\">Earth\n",
        "    Lab’s lesson introducing loops in Python,</a> and\n",
        "-   <a href=\"https://www.earthdatascience.org/courses/intro-to-earth-data-science/write-efficient-python-code/loops/list-comprehensions\" target=\"_blank\">Earth\n",
        "    Lab’s lesson on list comprehensions in Python.</a>"
      ]
    },
    {
      "cell_type": "code",
      "execution_count": null,
      "id": "aa1e8715",
      "metadata": {
        "nbgrader": {
          "grade": false,
          "grade_id": "bonus-answer",
          "locked": false,
          "schema_version": 3,
          "solution": true,
          "task": false
        }
      },
      "outputs": [],
      "source": [
        "# Add your code here"
      ]
    },
    {
      "cell_type": "code",
      "execution_count": null,
      "id": "18c7c533",
      "metadata": {
        "nbgrader": {
          "grade": true,
          "grade_id": "bonus-tests",
          "locked": true,
          "points": 5,
          "schema_version": 3,
          "solution": false,
          "task": false
        }
      },
      "outputs": [],
      "source": [
        "# DO NOT MODIFY THIS CELL\n",
        "\n",
        "student_temp_cel = _\n",
        "\n",
        "\n",
        "if isinstance(student_temp_cel, list):\n",
        "    print((\"\\u2705 Nice work! The object you called at the end of the cell \"\n",
        "           \"is of type - list\"))\n",
        "    is_list = True\n",
        "else:\n",
        "    print((\"\\u274C Oops! Did you create a list variable and call it at the \"\n",
        "           \"end of the cell? Please reread the directions.\"))\n",
        "\n",
        "if is_list:\n",
        "    if len(student_temp_cel) == 6:\n",
        "        print((\"\\u2705 Nice work! Your list has the correct number of \"\n",
        "               \"elements\"))\n",
        "    else:\n",
        "        print((\"\\u274C Oops - your list is not the correct length.\"))\n",
        "\n",
        "    if round(sum(student_temp_cel), 1) == 50.5:\n",
        "        print((\"\\u2705 Your list comprehension output has the correct \"\n",
        "               \"values in it.\"))\n",
        "    else:\n",
        "        print((\"\\u274C Your list comprehension output does not have the \"\n",
        "               \"correct values in it.\"))"
      ]
    }
  ],
  "metadata": {
    "kernelspec": {
      "display_name": "earth-analytics-python",
      "language": "python",
      "name": "python3"
    },
    "language_info": {
      "codemirror_mode": {
        "name": "ipython",
        "version": 3
      },
      "file_extension": ".py",
      "mimetype": "text/x-python",
      "name": "python",
      "nbconvert_exporter": "python",
      "pygments_lexer": "ipython3",
      "version": "3.11.7"
    }
  },
  "nbformat": 4,
  "nbformat_minor": 5
}
