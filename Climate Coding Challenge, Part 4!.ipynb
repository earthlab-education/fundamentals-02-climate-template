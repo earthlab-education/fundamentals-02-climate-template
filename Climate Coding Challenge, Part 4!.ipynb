{
  "cells": [
    {
      "cell_type": "markdown",
      "metadata": {},
      "source": [
        "# Climate Coding Challenge\n",
        "\n",
        "Climate change is impacting the way people live around the world\n",
        "\n",
        "# Plot your results\n",
        "\n",
        "## STEP 0: Set up\n",
        "\n",
        "To get started on this notebook, you’ll need to restore any variables\n",
        "from previous notebooks to your workspace. To save time and memory, make\n",
        "sure to specify which variables you want to load."
      ],
      "id": "613f18e5-e20d-4069-a8d5-f497b37f5431"
    },
    {
      "cell_type": "code",
      "execution_count": 1,
      "metadata": {},
      "outputs": [],
      "source": [
        "%store -r"
      ],
      "id": "8d75d140"
    },
    {
      "cell_type": "markdown",
      "metadata": {},
      "source": [
        "## STEP 1: Plot the temperature column vs time to explore the data\n",
        "\n",
        "Plotting in Python is easy, but not quite this easy:"
      ],
      "id": "cfd6a50b-358a-4130-a069-100a3807db3e"
    },
    {
      "cell_type": "code",
      "execution_count": 2,
      "metadata": {},
      "outputs": [],
      "source": [
        "climate_u_df.plot()"
      ],
      "id": "bd3b12ed"
    },
    {
      "cell_type": "markdown",
      "metadata": {},
      "source": [
        "Looks like we have *both* temperature units on the same plot, and it’s\n",
        "hard to see what it is because it’s missing labels!\n",
        "\n",
        "> ****Label your plot****\n",
        ">\n",
        "> <figure>\n",
        "> <img src=\"https://imgs.xkcd.com/comics/convincing.png\"\n",
        "> alt=\"Source: https://xkcd.com/833\" />\n",
        "> <figcaption aria-hidden=\"true\">Source: https://xkcd.com/833</figcaption>\n",
        "> </figure>\n",
        ">\n",
        "> Make sure each plot has:\n",
        ">\n",
        "> -   A title that explains where and when the data are from\n",
        "> -   x- and y- axis labels with **units** where appropriate\n",
        "> -   A legend where appropriate\n",
        "\n",
        "When plotting in Python, you’ll always need to add some instructions on\n",
        "labels and how you want your plot to look.\n",
        "\n",
        "<link rel=\"stylesheet\" type=\"text/css\" href=\"./assets/styles.css\"><div class=\"callout callout-style-default callout-titled callout-task\"><div class=\"callout-header\"><div class=\"callout-icon-container\"><i class=\"callout-icon\"></i></div><div class=\"callout-title-container flex-fill\">Try It: Plot your data</div></div><div class=\"callout-body-container callout-body\"><ol type=\"1\">\n",
        "<li>Change <code>dataframe</code> to <strong>your</strong>\n",
        "<code>DataFrame</code> name.</li>\n",
        "<li>Change <code>y=</code> to the name of your\n",
        "<strong>temperature</strong> column name.</li>\n",
        "<li>Use the <code>title</code>, <code>ylabel</code>, and\n",
        "<code>xlabel</code> parameters to add key text to your plot.</li>\n",
        "<li>Adjust the size of your figure using <code>figsize=(x,y)</code>\n",
        "where <code>x</code> is figure width and <code>y</code> is figure\n",
        "height</li>\n",
        "</ol></div></div>\n",
        "\n",
        "> **Tip**\n",
        ">\n",
        "> Labels have to be a *type* in Python called a **string**. You can make\n",
        "> a string by putting quotes around your label, just like the column\n",
        "> names in the sample code (eg `y='temperature'`)."
      ],
      "id": "859bac23-1ab2-4e4e-965f-28bae7c26c94"
    },
    {
      "cell_type": "code",
      "execution_count": 3,
      "metadata": {
        "template": "student"
      },
      "outputs": [],
      "source": [
        "# Plot the data using .plot\n",
        "climate_u_df.plot(\n",
        "    y='the_temperature_column',\n",
        "    title='Title Goes Here',\n",
        "    xlabel='Horizontal Axis Label Goes Here',\n",
        "    ylabel='Vertical Axis Label Goes Here')"
      ],
      "id": "8381580b"
    },
    {
      "cell_type": "markdown",
      "metadata": {},
      "source": [
        "<link rel=\"stylesheet\" type=\"text/css\" href=\"./assets/styles.css\"><div class=\"callout callout-style-default callout-titled callout-extra\"><div class=\"callout-header\"><div class=\"callout-icon-container\"><i class=\"callout-icon\"></i></div><div class=\"callout-title-container flex-fill\">Looking for an Extra Challenge?</div></div><div class=\"callout-body-container callout-body\"><p>There are many other things you can do to customize your plot. Take a\n",
        "look at the <a\n",
        "href=\"https://pandas.pydata.org/docs/user_guide/visualization.html\">pandas\n",
        "plotting galleries</a> and the <a\n",
        "href=\"https://pandas.pydata.org/docs/reference/api/pandas.DataFrame.plot.html\">documentation\n",
        "of plot</a> to see if there’s other changes you want to make to your\n",
        "plot. Some possibilities include:</p>\n",
        "<ul>\n",
        "<li>Remove the legend since there’s only one data series</li>\n",
        "<li>Increase the figure size</li>\n",
        "<li>Increase the font size</li>\n",
        "<li>Change the colors</li>\n",
        "<li>Use a bar graph instead (usually we use lines for time series, but\n",
        "since this is annual it could go either way)</li>\n",
        "<li>Add a trend line</li>\n",
        "</ul>\n",
        "<p>Not sure how to do any of these? Try searching the internet, or\n",
        "asking an AI!</p></div></div>\n",
        "\n",
        "## STEP 2: Clean up time series plots by resampling\n",
        "\n",
        "You may notice that your plot looks a little “fuzzy”. This happens when\n",
        "Python is trying to plot a value for every date, but the resolution of\n",
        "the image is too low to actually do that. You can address this issue by\n",
        "**resampling** the data, or summarizing it over a time period of your\n",
        "choice. In this case, we will resample annually, giving us one data\n",
        "point per year.\n",
        "\n",
        "<link rel=\"stylesheet\" type=\"text/css\" href=\"./assets/styles.css\"><div class=\"callout callout-style-default callout-titled callout-task\"><div class=\"callout-header\"><div class=\"callout-icon-container\"><i class=\"callout-icon\"></i></div><div class=\"callout-title-container flex-fill\">Try It: Resample</div></div><div class=\"callout-body-container callout-body\"><ol type=\"1\">\n",
        "<li>Set the frequency of your final data by replacing\n",
        "<code>DT_OFFSET</code>with a <strong>Datetime Offset Code</strong>.\n",
        "Check out the table in the <a\n",
        "href=\"https://pandas.pydata.org/pandas-docs/stable/user_guide/timeseries.html#dateoffset-objects\">pandas\n",
        "datetime documentation</a> to find the one you want (we recommend the\n",
        "start of the year).</li>\n",
        "<li>Choose how to summarize each year of data by replacing\n",
        "<code>agg_method_here</code> with a method that will calculate the\n",
        "<strong>average annual value</strong>. Check out the <a\n",
        "href=\"https://pandas.pydata.org/pandas-docs/stable/user_guide/timeseries.html#basics\">pandas\n",
        "resampling documentation</a> for a list of common built-in options.</li>\n",
        "<li>Add descriptive comments to the code so the next person reading it\n",
        "knows what it is doing.</li>\n",
        "</ol></div></div>"
      ],
      "id": "6747fe6a-96ab-46c9-8376-2f6192512c2f"
    },
    {
      "cell_type": "code",
      "execution_count": 5,
      "metadata": {
        "template": "student"
      },
      "outputs": [],
      "source": [
        "ann_climate_df = (\n",
        "    climate_u_df\n",
        "    .resample('DT_OFFSET')\n",
        "    .agg_method_here()\n",
        ")\n",
        "ann_climate_df"
      ],
      "id": "19f9b5b1"
    },
    {
      "cell_type": "markdown",
      "metadata": {},
      "source": [
        "<link rel=\"stylesheet\" type=\"text/css\" href=\"./assets/styles.css\"><div class=\"callout callout-style-default callout-titled callout-task\"><div class=\"callout-header\"><div class=\"callout-icon-container\"><i class=\"callout-icon\"></i></div><div class=\"callout-title-container flex-fill\">Try It: Plot Annual Data</div></div><div class=\"callout-body-container callout-body\"><ol type=\"1\">\n",
        "<li>Try plotting your new DataFrame in the cell below. Can you see what\n",
        "is going on more clearly now? Don’t forget to adjust your labels!</li>\n",
        "<li>If you write your code on one line, it will most likely be to long\n",
        "to read without scrolling. Make sure you are following <a\n",
        "href=\"https://peps.python.org/pep-0008/\">PEP-8 style guidelines</a> by\n",
        "keeping your lines less than 80 characters long. If you are working in\n",
        "GitHub Codespaces, we have set you up with a vertical guide that is\n",
        "between 79 and 80 characters – make sure your code doesn’t go past\n",
        "it!</li>\n",
        "<li>PEP-8 also suggests aligning any function parameters that are too\n",
        "long. See some examples below for what to do and what not to do.</li>\n",
        "</ol></div></div>\n",
        "\n",
        "> **PEP-8 tips!**\n",
        ">\n",
        "> Following the [PEP-8 style guide](https://peps.python.org/pep-0008/)\n",
        "> is important because it makes your code easy for you and other\n",
        "> collaborators to read. When you are splitting function calls across\n",
        "> multiple lines, your code should look like this:\n",
        ">\n",
        "> ``` python\n",
        "> my_dataframe.plot(\n",
        ">     y='column_name',\n",
        ">     title=f'My Fantastic Plot',\n",
        ">     xlabel='The x Axis',\n",
        ">     ylabel='The y Axis'\n",
        "> )\n",
        "> ```\n",
        ">\n",
        "> or maybe this:\n",
        ">\n",
        "> ``` python\n",
        "> my_dataframe.plot(y='column_name',\n",
        ">                   title=f'My Fantastic Plot',\n",
        ">                   xlabel='The x Axis',\n",
        ">                   ylabel='The y Axis')\n",
        "> ```\n",
        "\n",
        "> **Warning**\n",
        ">\n",
        "> Try to avoid these [PEP-8](https://peps.python.org/pep-0008/)\n",
        "> violations:\n",
        ">\n",
        "> ``` python\n",
        "> my_dataframe.plot(y='column_name', title=f'My Fantastic Plot', xlabel='The x Axis', ylabel='The y Axis')\n",
        "> ```\n",
        ">\n",
        "> or\n",
        ">\n",
        "> ``` python\n",
        "> my_dataframe.plot(\n",
        ">     y='column_name',\n",
        ">       title=f'My Fantastic Plot',\n",
        ">    xlabel='The x Axis',\n",
        ">    ylabel='The y Axis'\n",
        "> )\n",
        "> ```\n",
        ">\n",
        "> or\n",
        ">\n",
        "> ``` python\n",
        "> my_dataframe.plot(y='column_name',\n",
        ">     title=f'My Fantastic Plot',\n",
        ">     xlabel='The x Axis',\n",
        ">     ylabel='The y Axis'\n",
        "> )\n",
        "> ```"
      ],
      "id": "103e6b53-9523-424e-8822-fbdacb1f4f7b"
    },
    {
      "cell_type": "code",
      "execution_count": 7,
      "metadata": {
        "template": "student"
      },
      "outputs": [],
      "source": [
        "# Plot the annual data"
      ],
      "id": "130193b6"
    },
    {
      "cell_type": "markdown",
      "metadata": {},
      "source": [
        "<link rel=\"stylesheet\" type=\"text/css\" href=\"./assets/styles.css\"><div class=\"callout callout-style-default callout-titled callout-respond\"><div class=\"callout-header\"><div class=\"callout-icon-container\"><i class=\"callout-icon\"></i></div><div class=\"callout-title-container flex-fill\">Reflect and Respond: Interpret your plot</div></div><div class=\"callout-body-container callout-body\"><ol type=\"1\">\n",
        "<li>Create a new Markdown cell below this one.</li>\n",
        "<li>Using a <strong>bulleted list</strong> in Markdown, write down 2\n",
        "things you notice about the data. What <strong>physical\n",
        "phenomena</strong> or <strong>data anomaly</strong> could be causing\n",
        "each one?</li>\n",
        "</ol></div></div>"
      ],
      "id": "2e9b11be-60e9-4ee0-b2e9-eb0e99932b69"
    },
    {
      "cell_type": "markdown",
      "metadata": {},
      "source": [
        "## STEP 3: Check specific values with an interactive plot\n",
        "\n",
        "You can use the `.hvplot()` method with similar arguments to create an\n",
        "interactive plot.\n",
        "\n",
        "<link rel=\"stylesheet\" type=\"text/css\" href=\"./assets/styles.css\"><div class=\"callout callout-style-default callout-titled callout-task\"><div class=\"callout-header\"><div class=\"callout-icon-container\"><i class=\"callout-icon\"></i></div><div class=\"callout-title-container flex-fill\">Try It: Interactive Plot</div></div><div class=\"callout-body-container callout-body\"><ol type=\"1\">\n",
        "<li>Copy your plotting code into the cell below.</li>\n",
        "<li>Replace <code>.plot</code> in your code with\n",
        "<code>.hvplot</code></li>\n",
        "<li>Check that your code follows <a\n",
        "href=\"https://peps.python.org/pep-0008/\">PEP-8 guidelines</a>.</li>\n",
        "</ol>\n",
        "<p>Now, you should be able to hover over data points and see their\n",
        "values!</p></div></div>"
      ],
      "id": "0e81725c-5b2e-449f-8fd4-b651595d0f78"
    },
    {
      "cell_type": "code",
      "execution_count": 9,
      "metadata": {
        "template": "student"
      },
      "outputs": [],
      "source": [
        "# Plot the annual data interactively"
      ],
      "id": "56962082"
    },
    {
      "cell_type": "markdown",
      "metadata": {},
      "source": [
        "<link rel=\"stylesheet\" type=\"text/css\" href=\"./assets/styles.css\"><div class=\"callout callout-style-default callout-titled callout-respond\"><div class=\"callout-header\"><div class=\"callout-icon-container\"><i class=\"callout-icon\"></i></div><div class=\"callout-title-container flex-fill\">Reflect and Respond: Explore the data</div></div><div class=\"callout-body-container callout-body\"><ol type=\"1\">\n",
        "<li>Create a new Markdown cell below this one.</li>\n",
        "<li>Hover over the lowest point on your plot. What is the overall\n",
        "maximum annual average temperature?</li>\n",
        "</ol></div></div>"
      ],
      "id": "c2afa2af-93ce-46b1-8346-5f7da05726ae"
    },
    {
      "cell_type": "markdown",
      "metadata": {},
      "source": [
        "## BONUS: Save your work\n",
        "\n",
        "You will need to save your analyses and plots to tell others about what\n",
        "you find.\n",
        "\n",
        "<link rel=\"stylesheet\" type=\"text/css\" href=\"./assets/styles.css\"><div class=\"callout callout-style-default callout-titled callout-extra\"><div class=\"callout-header\"><div class=\"callout-icon-container\"><i class=\"callout-icon\"></i></div><div class=\"callout-title-container flex-fill\">Looking for an Extra Challenge?: Save Your Plot</div></div><div class=\"callout-body-container callout-body\"><p>Just like with any other type of object in Python, if you want to\n",
        "reuse your work, you need to give it a name.</p>\n",
        "<ol type=\"1\">\n",
        "<li>Go back to your <code>hvplot</code> code, and give your plot a name\n",
        "by assigning it to a variable. HINT: if you still want your plot to\n",
        "display in your notebook, make sure to <strong>call</strong> its name at\n",
        "the end of the cell.</li>\n",
        "<li>Replace <code>my_plot</code> with the name you gave to your\n",
        "plot.</li>\n",
        "<li>Replace <code>'my_plot.html'</code> with the name you want for your\n",
        "plot. If you change the file extension, <code>.html</code>, to\n",
        "<code>.png</code>, you will get an image instead of an interactive\n",
        "webpage, provided you have the necessary libraries installed.</li>\n",
        "</ol>\n",
        "<p>Once you run the code, you should see your saved plot in your files –\n",
        "go ahead and open it up.</p></div></div>\n",
        "\n",
        "> **Warning**\n",
        ">\n",
        "> If you are working in GitHub Codespaces, right-click on your file and\n",
        "> download it to view it after saving."
      ],
      "id": "739f9525-8f5b-4dd7-bb7e-4b88fc5acbde"
    },
    {
      "cell_type": "code",
      "execution_count": 11,
      "metadata": {
        "template": "student"
      },
      "outputs": [],
      "source": [
        "hv.save(my_plot, 'my_plot.html')"
      ],
      "id": "939192b6"
    },
    {
      "cell_type": "markdown",
      "metadata": {},
      "source": [
        "# STEP -1: Wrap up\n",
        "\n",
        "Don’t forget to store your variables so you can use them in other\n",
        "notebooks! Replace `var1` and `var2` with the variable you want to save,\n",
        "separated by spaces."
      ],
      "id": "d1b2c885-033e-4fa5-8d55-3bd0b4d23e72"
    },
    {
      "cell_type": "code",
      "execution_count": 13,
      "metadata": {},
      "outputs": [],
      "source": [
        "%store var1 var2"
      ],
      "id": "1c97d2f6"
    },
    {
      "cell_type": "markdown",
      "metadata": {},
      "source": [
        "Finally, be sure to `Restart` and `Run all` to make sure your notebook\n",
        "works all the way through!"
      ],
      "id": "6f093c05-e54b-40cd-a85e-0e5263455e65"
    }
  ],
  "nbformat": 4,
  "nbformat_minor": 5,
  "metadata": {
    "kernelspec": {
      "name": "learning-portal",
      "display_name": "Learning Portal",
      "language": "python"
    },
    "language_info": {
      "name": "python",
      "codemirror_mode": {
        "name": "ipython",
        "version": "3"
      },
      "file_extension": ".py",
      "mimetype": "text/x-python",
      "nbconvert_exporter": "python",
      "pygments_lexer": "ipython3",
      "version": "3.11.13"
    }
  }
}